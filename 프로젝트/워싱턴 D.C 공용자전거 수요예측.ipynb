{
 "cells": [
  {
   "cell_type": "markdown",
   "id": "b0518cbb",
   "metadata": {},
   "source": [
    "# 라이브러리 임포트"
   ]
  },
  {
   "cell_type": "code",
   "execution_count": 1,
   "id": "1bfd527b",
   "metadata": {},
   "outputs": [],
   "source": [
    "import numpy as np\n",
    "import pandas as pd\n",
    "import matplotlib.pyplot as plt\n",
    "import seaborn as sns\n",
    "import warnings\n",
    "warnings.filterwarnings(\"ignore\")"
   ]
  },
  {
   "cell_type": "markdown",
   "id": "621ccac1",
   "metadata": {},
   "source": [
    "#### 관련 데이터셋 로드"
   ]
  },
  {
   "cell_type": "code",
   "execution_count": 2,
   "id": "13c6e28a",
   "metadata": {},
   "outputs": [],
   "source": [
    "test=pd.read_csv('test.csv')\n",
    "train=pd.read_csv('train.csv')\n",
    "samplest=pd.read_csv('sampleSubmission.csv')"
   ]
  },
  {
   "cell_type": "markdown",
   "id": "3b02b0dd",
   "metadata": {},
   "source": [
    "#### 데이터 확인"
   ]
  },
  {
   "cell_type": "code",
   "execution_count": 3,
   "id": "11060298",
   "metadata": {},
   "outputs": [
    {
     "data": {
      "text/html": [
       "<div>\n",
       "<style scoped>\n",
       "    .dataframe tbody tr th:only-of-type {\n",
       "        vertical-align: middle;\n",
       "    }\n",
       "\n",
       "    .dataframe tbody tr th {\n",
       "        vertical-align: top;\n",
       "    }\n",
       "\n",
       "    .dataframe thead th {\n",
       "        text-align: right;\n",
       "    }\n",
       "</style>\n",
       "<table border=\"1\" class=\"dataframe\">\n",
       "  <thead>\n",
       "    <tr style=\"text-align: right;\">\n",
       "      <th></th>\n",
       "      <th>datetime</th>\n",
       "      <th>season</th>\n",
       "      <th>holiday</th>\n",
       "      <th>workingday</th>\n",
       "      <th>weather</th>\n",
       "      <th>temp</th>\n",
       "      <th>atemp</th>\n",
       "      <th>humidity</th>\n",
       "      <th>windspeed</th>\n",
       "      <th>casual</th>\n",
       "      <th>registered</th>\n",
       "      <th>count</th>\n",
       "    </tr>\n",
       "  </thead>\n",
       "  <tbody>\n",
       "    <tr>\n",
       "      <th>0</th>\n",
       "      <td>2011-01-01 00:00:00</td>\n",
       "      <td>1</td>\n",
       "      <td>0</td>\n",
       "      <td>0</td>\n",
       "      <td>1</td>\n",
       "      <td>9.84</td>\n",
       "      <td>14.395</td>\n",
       "      <td>81</td>\n",
       "      <td>0.0000</td>\n",
       "      <td>3</td>\n",
       "      <td>13</td>\n",
       "      <td>16</td>\n",
       "    </tr>\n",
       "    <tr>\n",
       "      <th>1</th>\n",
       "      <td>2011-01-01 01:00:00</td>\n",
       "      <td>1</td>\n",
       "      <td>0</td>\n",
       "      <td>0</td>\n",
       "      <td>1</td>\n",
       "      <td>9.02</td>\n",
       "      <td>13.635</td>\n",
       "      <td>80</td>\n",
       "      <td>0.0000</td>\n",
       "      <td>8</td>\n",
       "      <td>32</td>\n",
       "      <td>40</td>\n",
       "    </tr>\n",
       "    <tr>\n",
       "      <th>2</th>\n",
       "      <td>2011-01-01 02:00:00</td>\n",
       "      <td>1</td>\n",
       "      <td>0</td>\n",
       "      <td>0</td>\n",
       "      <td>1</td>\n",
       "      <td>9.02</td>\n",
       "      <td>13.635</td>\n",
       "      <td>80</td>\n",
       "      <td>0.0000</td>\n",
       "      <td>5</td>\n",
       "      <td>27</td>\n",
       "      <td>32</td>\n",
       "    </tr>\n",
       "    <tr>\n",
       "      <th>3</th>\n",
       "      <td>2011-01-01 03:00:00</td>\n",
       "      <td>1</td>\n",
       "      <td>0</td>\n",
       "      <td>0</td>\n",
       "      <td>1</td>\n",
       "      <td>9.84</td>\n",
       "      <td>14.395</td>\n",
       "      <td>75</td>\n",
       "      <td>0.0000</td>\n",
       "      <td>3</td>\n",
       "      <td>10</td>\n",
       "      <td>13</td>\n",
       "    </tr>\n",
       "    <tr>\n",
       "      <th>4</th>\n",
       "      <td>2011-01-01 04:00:00</td>\n",
       "      <td>1</td>\n",
       "      <td>0</td>\n",
       "      <td>0</td>\n",
       "      <td>1</td>\n",
       "      <td>9.84</td>\n",
       "      <td>14.395</td>\n",
       "      <td>75</td>\n",
       "      <td>0.0000</td>\n",
       "      <td>0</td>\n",
       "      <td>1</td>\n",
       "      <td>1</td>\n",
       "    </tr>\n",
       "    <tr>\n",
       "      <th>...</th>\n",
       "      <td>...</td>\n",
       "      <td>...</td>\n",
       "      <td>...</td>\n",
       "      <td>...</td>\n",
       "      <td>...</td>\n",
       "      <td>...</td>\n",
       "      <td>...</td>\n",
       "      <td>...</td>\n",
       "      <td>...</td>\n",
       "      <td>...</td>\n",
       "      <td>...</td>\n",
       "      <td>...</td>\n",
       "    </tr>\n",
       "    <tr>\n",
       "      <th>10881</th>\n",
       "      <td>2012-12-19 19:00:00</td>\n",
       "      <td>4</td>\n",
       "      <td>0</td>\n",
       "      <td>1</td>\n",
       "      <td>1</td>\n",
       "      <td>15.58</td>\n",
       "      <td>19.695</td>\n",
       "      <td>50</td>\n",
       "      <td>26.0027</td>\n",
       "      <td>7</td>\n",
       "      <td>329</td>\n",
       "      <td>336</td>\n",
       "    </tr>\n",
       "    <tr>\n",
       "      <th>10882</th>\n",
       "      <td>2012-12-19 20:00:00</td>\n",
       "      <td>4</td>\n",
       "      <td>0</td>\n",
       "      <td>1</td>\n",
       "      <td>1</td>\n",
       "      <td>14.76</td>\n",
       "      <td>17.425</td>\n",
       "      <td>57</td>\n",
       "      <td>15.0013</td>\n",
       "      <td>10</td>\n",
       "      <td>231</td>\n",
       "      <td>241</td>\n",
       "    </tr>\n",
       "    <tr>\n",
       "      <th>10883</th>\n",
       "      <td>2012-12-19 21:00:00</td>\n",
       "      <td>4</td>\n",
       "      <td>0</td>\n",
       "      <td>1</td>\n",
       "      <td>1</td>\n",
       "      <td>13.94</td>\n",
       "      <td>15.910</td>\n",
       "      <td>61</td>\n",
       "      <td>15.0013</td>\n",
       "      <td>4</td>\n",
       "      <td>164</td>\n",
       "      <td>168</td>\n",
       "    </tr>\n",
       "    <tr>\n",
       "      <th>10884</th>\n",
       "      <td>2012-12-19 22:00:00</td>\n",
       "      <td>4</td>\n",
       "      <td>0</td>\n",
       "      <td>1</td>\n",
       "      <td>1</td>\n",
       "      <td>13.94</td>\n",
       "      <td>17.425</td>\n",
       "      <td>61</td>\n",
       "      <td>6.0032</td>\n",
       "      <td>12</td>\n",
       "      <td>117</td>\n",
       "      <td>129</td>\n",
       "    </tr>\n",
       "    <tr>\n",
       "      <th>10885</th>\n",
       "      <td>2012-12-19 23:00:00</td>\n",
       "      <td>4</td>\n",
       "      <td>0</td>\n",
       "      <td>1</td>\n",
       "      <td>1</td>\n",
       "      <td>13.12</td>\n",
       "      <td>16.665</td>\n",
       "      <td>66</td>\n",
       "      <td>8.9981</td>\n",
       "      <td>4</td>\n",
       "      <td>84</td>\n",
       "      <td>88</td>\n",
       "    </tr>\n",
       "  </tbody>\n",
       "</table>\n",
       "<p>10886 rows × 12 columns</p>\n",
       "</div>"
      ],
      "text/plain": [
       "                  datetime  season  holiday  workingday  weather   temp  \\\n",
       "0      2011-01-01 00:00:00       1        0           0        1   9.84   \n",
       "1      2011-01-01 01:00:00       1        0           0        1   9.02   \n",
       "2      2011-01-01 02:00:00       1        0           0        1   9.02   \n",
       "3      2011-01-01 03:00:00       1        0           0        1   9.84   \n",
       "4      2011-01-01 04:00:00       1        0           0        1   9.84   \n",
       "...                    ...     ...      ...         ...      ...    ...   \n",
       "10881  2012-12-19 19:00:00       4        0           1        1  15.58   \n",
       "10882  2012-12-19 20:00:00       4        0           1        1  14.76   \n",
       "10883  2012-12-19 21:00:00       4        0           1        1  13.94   \n",
       "10884  2012-12-19 22:00:00       4        0           1        1  13.94   \n",
       "10885  2012-12-19 23:00:00       4        0           1        1  13.12   \n",
       "\n",
       "        atemp  humidity  windspeed  casual  registered  count  \n",
       "0      14.395        81     0.0000       3          13     16  \n",
       "1      13.635        80     0.0000       8          32     40  \n",
       "2      13.635        80     0.0000       5          27     32  \n",
       "3      14.395        75     0.0000       3          10     13  \n",
       "4      14.395        75     0.0000       0           1      1  \n",
       "...       ...       ...        ...     ...         ...    ...  \n",
       "10881  19.695        50    26.0027       7         329    336  \n",
       "10882  17.425        57    15.0013      10         231    241  \n",
       "10883  15.910        61    15.0013       4         164    168  \n",
       "10884  17.425        61     6.0032      12         117    129  \n",
       "10885  16.665        66     8.9981       4          84     88  \n",
       "\n",
       "[10886 rows x 12 columns]"
      ]
     },
     "execution_count": 3,
     "metadata": {},
     "output_type": "execute_result"
    }
   ],
   "source": [
    "train\n",
    "\n",
    "\n",
    "\n",
    "# session : 계절 \n",
    "# holiday : 공휴일 여부 \n",
    "# workingday : 평일 여부\n",
    "# weather : 날씨\n",
    "# temp : 온도\n",
    "# atemp : 체감온도\n",
    "# humidity : 습도\n",
    "# windspeed : 풍속 \n",
    "# casual : 대여 회수\n",
    "# registered : 등록자의 대여횟수\n",
    "# count : 대여횟수\n",
    "\n",
    "\n",
    "\n"
   ]
  },
  {
   "cell_type": "code",
   "execution_count": 4,
   "id": "ef23526d",
   "metadata": {},
   "outputs": [
    {
     "name": "stdout",
     "output_type": "stream",
     "text": [
      "<class 'pandas.core.frame.DataFrame'>\n",
      "RangeIndex: 10886 entries, 0 to 10885\n",
      "Data columns (total 12 columns):\n",
      " #   Column      Non-Null Count  Dtype  \n",
      "---  ------      --------------  -----  \n",
      " 0   datetime    10886 non-null  object \n",
      " 1   season      10886 non-null  int64  \n",
      " 2   holiday     10886 non-null  int64  \n",
      " 3   workingday  10886 non-null  int64  \n",
      " 4   weather     10886 non-null  int64  \n",
      " 5   temp        10886 non-null  float64\n",
      " 6   atemp       10886 non-null  float64\n",
      " 7   humidity    10886 non-null  int64  \n",
      " 8   windspeed   10886 non-null  float64\n",
      " 9   casual      10886 non-null  int64  \n",
      " 10  registered  10886 non-null  int64  \n",
      " 11  count       10886 non-null  int64  \n",
      "dtypes: float64(3), int64(8), object(1)\n",
      "memory usage: 1020.7+ KB\n"
     ]
    }
   ],
   "source": [
    "train.info()"
   ]
  },
  {
   "cell_type": "markdown",
   "id": "88638a3b",
   "metadata": {},
   "source": [
    "#### 문자열 날짜를 datetime으로 변환 + 년월일시간으로 분리"
   ]
  },
  {
   "cell_type": "code",
   "execution_count": 5,
   "id": "fa6aa2aa",
   "metadata": {},
   "outputs": [
    {
     "data": {
      "text/html": [
       "<div>\n",
       "<style scoped>\n",
       "    .dataframe tbody tr th:only-of-type {\n",
       "        vertical-align: middle;\n",
       "    }\n",
       "\n",
       "    .dataframe tbody tr th {\n",
       "        vertical-align: top;\n",
       "    }\n",
       "\n",
       "    .dataframe thead th {\n",
       "        text-align: right;\n",
       "    }\n",
       "</style>\n",
       "<table border=\"1\" class=\"dataframe\">\n",
       "  <thead>\n",
       "    <tr style=\"text-align: right;\">\n",
       "      <th></th>\n",
       "      <th>datetime</th>\n",
       "      <th>season</th>\n",
       "      <th>holiday</th>\n",
       "      <th>workingday</th>\n",
       "      <th>weather</th>\n",
       "      <th>temp</th>\n",
       "      <th>atemp</th>\n",
       "      <th>humidity</th>\n",
       "      <th>windspeed</th>\n",
       "      <th>casual</th>\n",
       "      <th>registered</th>\n",
       "      <th>count</th>\n",
       "      <th>year</th>\n",
       "      <th>month</th>\n",
       "      <th>day</th>\n",
       "      <th>hour</th>\n",
       "    </tr>\n",
       "  </thead>\n",
       "  <tbody>\n",
       "    <tr>\n",
       "      <th>0</th>\n",
       "      <td>2011-01-01 00:00:00</td>\n",
       "      <td>1</td>\n",
       "      <td>0</td>\n",
       "      <td>0</td>\n",
       "      <td>1</td>\n",
       "      <td>9.84</td>\n",
       "      <td>14.395</td>\n",
       "      <td>81</td>\n",
       "      <td>0.0</td>\n",
       "      <td>3</td>\n",
       "      <td>13</td>\n",
       "      <td>16</td>\n",
       "      <td>2011</td>\n",
       "      <td>1</td>\n",
       "      <td>1</td>\n",
       "      <td>0</td>\n",
       "    </tr>\n",
       "    <tr>\n",
       "      <th>1</th>\n",
       "      <td>2011-01-01 01:00:00</td>\n",
       "      <td>1</td>\n",
       "      <td>0</td>\n",
       "      <td>0</td>\n",
       "      <td>1</td>\n",
       "      <td>9.02</td>\n",
       "      <td>13.635</td>\n",
       "      <td>80</td>\n",
       "      <td>0.0</td>\n",
       "      <td>8</td>\n",
       "      <td>32</td>\n",
       "      <td>40</td>\n",
       "      <td>2011</td>\n",
       "      <td>1</td>\n",
       "      <td>1</td>\n",
       "      <td>1</td>\n",
       "    </tr>\n",
       "    <tr>\n",
       "      <th>2</th>\n",
       "      <td>2011-01-01 02:00:00</td>\n",
       "      <td>1</td>\n",
       "      <td>0</td>\n",
       "      <td>0</td>\n",
       "      <td>1</td>\n",
       "      <td>9.02</td>\n",
       "      <td>13.635</td>\n",
       "      <td>80</td>\n",
       "      <td>0.0</td>\n",
       "      <td>5</td>\n",
       "      <td>27</td>\n",
       "      <td>32</td>\n",
       "      <td>2011</td>\n",
       "      <td>1</td>\n",
       "      <td>1</td>\n",
       "      <td>2</td>\n",
       "    </tr>\n",
       "    <tr>\n",
       "      <th>3</th>\n",
       "      <td>2011-01-01 03:00:00</td>\n",
       "      <td>1</td>\n",
       "      <td>0</td>\n",
       "      <td>0</td>\n",
       "      <td>1</td>\n",
       "      <td>9.84</td>\n",
       "      <td>14.395</td>\n",
       "      <td>75</td>\n",
       "      <td>0.0</td>\n",
       "      <td>3</td>\n",
       "      <td>10</td>\n",
       "      <td>13</td>\n",
       "      <td>2011</td>\n",
       "      <td>1</td>\n",
       "      <td>1</td>\n",
       "      <td>3</td>\n",
       "    </tr>\n",
       "    <tr>\n",
       "      <th>4</th>\n",
       "      <td>2011-01-01 04:00:00</td>\n",
       "      <td>1</td>\n",
       "      <td>0</td>\n",
       "      <td>0</td>\n",
       "      <td>1</td>\n",
       "      <td>9.84</td>\n",
       "      <td>14.395</td>\n",
       "      <td>75</td>\n",
       "      <td>0.0</td>\n",
       "      <td>0</td>\n",
       "      <td>1</td>\n",
       "      <td>1</td>\n",
       "      <td>2011</td>\n",
       "      <td>1</td>\n",
       "      <td>1</td>\n",
       "      <td>4</td>\n",
       "    </tr>\n",
       "  </tbody>\n",
       "</table>\n",
       "</div>"
      ],
      "text/plain": [
       "             datetime  season  holiday  workingday  weather  temp   atemp  \\\n",
       "0 2011-01-01 00:00:00       1        0           0        1  9.84  14.395   \n",
       "1 2011-01-01 01:00:00       1        0           0        1  9.02  13.635   \n",
       "2 2011-01-01 02:00:00       1        0           0        1  9.02  13.635   \n",
       "3 2011-01-01 03:00:00       1        0           0        1  9.84  14.395   \n",
       "4 2011-01-01 04:00:00       1        0           0        1  9.84  14.395   \n",
       "\n",
       "   humidity  windspeed  casual  registered  count  year  month  day  hour  \n",
       "0        81        0.0       3          13     16  2011      1    1     0  \n",
       "1        80        0.0       8          32     40  2011      1    1     1  \n",
       "2        80        0.0       5          27     32  2011      1    1     2  \n",
       "3        75        0.0       3          10     13  2011      1    1     3  \n",
       "4        75        0.0       0           1      1  2011      1    1     4  "
      ]
     },
     "execution_count": 5,
     "metadata": {},
     "output_type": "execute_result"
    }
   ],
   "source": [
    "train[\"datetime\"] = train.datetime.apply(pd.to_datetime) \n",
    "train[\"year\"] = train.datetime.apply(lambda x : x.year) \n",
    "train[\"month\"] = train.datetime.apply(lambda x : x.month) \n",
    "train[\"day\"] = train.datetime.apply(lambda x : x.day) \n",
    "train[\"hour\"] = train.datetime.apply(lambda x : x.hour) \n",
    "\n",
    "\n",
    "train.head()\n",
    "\n"
   ]
  },
  {
   "cell_type": "markdown",
   "id": "6de85566",
   "metadata": {},
   "source": [
    "#### 필요없는 열 제거"
   ]
  },
  {
   "cell_type": "code",
   "execution_count": 6,
   "id": "a0489600",
   "metadata": {},
   "outputs": [],
   "source": [
    "\n",
    "\n",
    "drop_col = [\"casual\", \"registered\", \"datetime\"] \n",
    "\n",
    "train.drop(columns=drop_col, axis=1, inplace= True)"
   ]
  },
  {
   "cell_type": "markdown",
   "id": "af6d9077",
   "metadata": {},
   "source": [
    "# 데이터 시각화"
   ]
  },
  {
   "cell_type": "code",
   "execution_count": 7,
   "id": "7ea0bf7b",
   "metadata": {},
   "outputs": [
    {
     "data": {
      "image/png": "[encoded data removed]",
      "text/plain": [
       "<Figure size 1080x504 with 2 Axes>"
      ]
     },
     "metadata": {
      "needs_background": "light"
     },
     "output_type": "display_data"
    }
   ],
   "source": [
    "\n",
    "fig, ax = plt.subplots(1, 2, figsize=(15,7))\n",
    "     \n",
    "# holiday 와 workingday 의 boxplot\n",
    "sns.boxplot(data=train, x='holiday', y='count', ax=ax[0])\n",
    "sns.boxplot(data=train, x='workingday', y='count', ax=ax[1])\n",
    " \n",
    "plt.show()"
   ]
  },
  {
   "cell_type": "code",
   "execution_count": 8,
   "id": "6a6ab972",
   "metadata": {},
   "outputs": [
    {
     "data": {
      "text/plain": [
       "<AxesSubplot:xlabel='weather', ylabel='count'>"
      ]
     },
     "execution_count": 8,
     "metadata": {},
     "output_type": "execute_result"
    },
    {
     "data": {
      "image/png": "[encoded data removed]",
      "text/plain": [
       "<Figure size 1080x504 with 1 Axes>"
      ]
     },
     "metadata": {
      "needs_background": "light"
     },
     "output_type": "display_data"
    }
   ],
   "source": [
    "fig,ax= plt.subplots(figsize=(15,7))\n",
    "\n",
    "sns.countplot(x='weather',data=train)\n",
    "\n",
    "\n",
    "# 1:맑은 날씨\n",
    "\n",
    "# 2:안개\n",
    "\n",
    "# 3:비,가벼운 눈\n",
    "\n",
    "# 4:폭설,폭우\n",
    "\n",
    " "
   ]
  },
  {
   "cell_type": "code",
   "execution_count": 9,
   "id": "ca8e0dc9",
   "metadata": {},
   "outputs": [
    {
     "data": {
      "image/png": "[encoded data removed]",
      "text/plain": [
       "<Figure size 1080x432 with 1 Axes>"
      ]
     },
     "metadata": {
      "needs_background": "light"
     },
     "output_type": "display_data"
    }
   ],
   "source": [
    "fig, ax = plt.subplots(figsize=(15,6))\n",
    " \n",
    "# 월별 대여량\n",
    "sns.barplot(data=train, x='month', y='count', ax=ax, ci=None)\n",
    " \n",
    "# x축 값이름 변경\n",
    "labels=['Jan', 'Feb', 'Mar', 'Apr', 'May', 'Jun', 'Jul', 'Aug', 'Sep', 'Oct','Nov', 'Dec']\n",
    "ax.set(xticklabels=labels)\n",
    " \n",
    "plt.show()"
   ]
  },
  {
   "cell_type": "code",
   "execution_count": 10,
   "id": "b1cc17cb",
   "metadata": {},
   "outputs": [
    {
     "data": {
      "image/png": "[encoded data removed]",
      "text/plain": [
       "<Figure size 1080x432 with 1 Axes>"
      ]
     },
     "metadata": {
      "needs_background": "light"
     },
     "output_type": "display_data"
    }
   ],
   "source": [
    "fig, ax = plt.subplots(figsize=(15,6))\n",
    " \n",
    "# 계절에 따른 시간별 대여량\n",
    "sns.pointplot(data=train, x='hour', y='count',hue='season', ax=ax, ci=None)\n",
    " \n",
    "\n",
    "labels=['Spring', 'Summer', 'Fall', 'Winter']\n",
    "ax.legend(labels=labels)\n",
    " \n",
    "plt.show()"
   ]
  },
  {
   "cell_type": "markdown",
   "id": "87fdd261",
   "metadata": {},
   "source": [
    "#### 성능 평가 지표들 정의"
   ]
  },
  {
   "cell_type": "code",
   "execution_count": 11,
   "id": "0aa30d12",
   "metadata": {},
   "outputs": [],
   "source": [
    "#*np.log1p(val):val+1후 로그 변환 수행 => val=0인 경우 -inf 방지\n",
    "\n",
    "from sklearn.metrics import mean_squared_error, mean_absolute_error\n",
    "\n",
    "def get_rmsle(y, pred): \n",
    "    log_y = np.log1p(y) \n",
    "    log_pred = np.log1p(pred)\n",
    "    mlse = np.sum((log_y - log_pred)**2) \n",
    "    rmlse = np.sqrt(mlse) \n",
    "    return rmlse \n",
    "\n",
    "def get_rmse(y, pred): \n",
    "    return np.sqrt(mean_squared_error(y, pred)) \n",
    "\n",
    "def eval_reg(y, pred): \n",
    "    rmlse = get_rmsle(y, pred) \n",
    "    rmse = get_rmse(y, pred) \n",
    "    mae = mean_absolute_error(y, pred) \n",
    "    print(\"rmlse : {0:.3f}\\nrmse : {1:.3f}\\nmae : {2:.3f}\".format(rmlse, rmse, mae))"
   ]
  },
  {
   "cell_type": "markdown",
   "id": "34b8f38e",
   "metadata": {},
   "source": [
    "#### 단순 선형 회귀 학습 후 평가"
   ]
  },
  {
   "cell_type": "code",
   "execution_count": 12,
   "id": "65cbedb2",
   "metadata": {},
   "outputs": [
    {
     "name": "stdout",
     "output_type": "stream",
     "text": [
      "rmlse : 65.386\n",
      "rmse : 141.704\n",
      "mae : 105.013\n"
     ]
    }
   ],
   "source": [
    "from sklearn.model_selection import train_test_split, GridSearchCV \n",
    "from sklearn.linear_model import LinearRegression, Ridge, Lasso \n",
    "\n",
    "y = train[\"count\"] \n",
    "X = train.drop(columns=[\"count\"], axis=1, inplace=False) \n",
    "\n",
    "X_train, X_test, y_train, y_test = train_test_split(X, y, test_size = 0.3) \n",
    "\n",
    "lr = LinearRegression() \n",
    "lr.fit(X_train, y_train) \n",
    "\n",
    "pred = lr.predict(X_test) \n",
    "\n",
    "eval_reg(y_test, pred)\n",
    "#성능 평가 지표들 오차 값이 크게 나옴"
   ]
  },
  {
   "cell_type": "markdown",
   "id": "b518647d",
   "metadata": {},
   "source": [
    "#### 오차가 가장 큰 값들 비교"
   ]
  },
  {
   "cell_type": "code",
   "execution_count": 13,
   "id": "ae79305c",
   "metadata": {},
   "outputs": [
    {
     "name": "stdout",
     "output_type": "stream",
     "text": [
      "      real   predicted        diff\n",
      "2336   834  187.571137  646.428863\n",
      "2151   809  196.254397  612.745603\n",
      "1862   784  183.232707  600.767293\n",
      "1376   943  359.258203  583.741797\n",
      "354    977  394.995067  582.004933\n"
     ]
    }
   ],
   "source": [
    "#종속 변수 count 값을 생각하면 오차가 상당히 크게 나옴 오차가 가장 큰 경우를 비교해보자\n",
    "\n",
    "def get_top_error_data(y_test, pred, n_tops = 5): \n",
    "    res = pd.DataFrame(data=y_test.values, columns=[\"real\"]) \n",
    "    res[\"predicted\"] = pred \n",
    "    res[\"diff\"] = np.abs(res[\"real\"] - res[\"predicted\"]) \n",
    "    print(res.sort_values(\"diff\", ascending=False)[:n_tops]) \n",
    "    \n",
    "get_top_error_data(y_test, pred, n_tops=5)\n",
    "\n",
    "#실제값과 예측 값사이 상당히 큰 오차 -> 타겟 값의 분포가 왜곡될 가능성이 큼"
   ]
  },
  {
   "cell_type": "markdown",
   "id": "652de7e9",
   "metadata": {},
   "source": [
    "## 라벨 분포 히스토그램 시각화"
   ]
  },
  {
   "cell_type": "code",
   "execution_count": 14,
   "id": "c54e6105",
   "metadata": {},
   "outputs": [
    {
     "data": {
      "text/plain": [
       "<AxesSubplot:>"
      ]
     },
     "execution_count": 14,
     "metadata": {},
     "output_type": "execute_result"
    },
    {
     "data": {
      "image/png": "[encoded data removed]",
      "text/plain": [
       "<Figure size 432x288 with 1 Axes>"
      ]
     },
     "metadata": {
      "needs_background": "light"
     },
     "output_type": "display_data"
    }
   ],
   "source": [
    "#로그 변환을 통해 정규분포에 가깝게 변환\n",
    "#예측 오류가 매우 커 왜곡된 분포를 따르는지 확인해야함\n",
    "\n",
    "y.hist()"
   ]
  },
  {
   "cell_type": "code",
   "execution_count": 15,
   "id": "6799f5ad",
   "metadata": {},
   "outputs": [
    {
     "data": {
      "text/plain": [
       "<AxesSubplot:>"
      ]
     },
     "execution_count": 15,
     "metadata": {},
     "output_type": "execute_result"
    },
    {
     "data": {
      "image/png": "[encoded data removed]",
      "text/plain": [
       "<Figure size 432x288 with 1 Axes>"
      ]
     },
     "metadata": {
      "needs_background": "light"
     },
     "output_type": "display_data"
    }
   ],
   "source": [
    "#로그 변환을 통해 y를 정규분포 형태로 바꿈\n",
    "\n",
    "\n",
    "y = np.log1p(y)\n",
    "y.hist()\n",
    "\n",
    "#이전에 0을 중심으로 하던 분포가 5~6울 중심으로 정규분포와 유사해짐"
   ]
  },
  {
   "cell_type": "markdown",
   "id": "6f78a41d",
   "metadata": {},
   "source": [
    "#### 변환된 데이터로 재학습 및 성능 평가"
   ]
  },
  {
   "cell_type": "code",
   "execution_count": 16,
   "id": "9026b3c2",
   "metadata": {},
   "outputs": [
    {
     "name": "stdout",
     "output_type": "stream",
     "text": [
      "rmlse : 13.367\n",
      "rmse : 1.027\n",
      "mae : 0.811\n",
      "          real  predicted      diff\n",
      "1749  6.156979   3.031210  3.125769\n",
      "50    1.098612   4.157386  3.058773\n",
      "502   6.255750   3.200584  3.055166\n",
      "3192  0.693147   3.643939  2.950792\n",
      "79    1.386294   4.305413  2.919119\n"
     ]
    }
   ],
   "source": [
    "#로그 변환을 수행 후 오차 척도들이 크게 줄어들었다\n",
    "\n",
    "X_train, X_test, y_train, y_test = train_test_split(X, y, test_size = 0.3) \n",
    "\n",
    "lr = LinearRegression() \n",
    "lr.fit(X_train, y_train) \n",
    "\n",
    "pred = lr.predict(X_test) \n",
    "\n",
    "eval_reg(y_test, pred) \n",
    "get_top_error_data(y_test, pred, n_tops=5)\n",
    "\n",
    "#rmse,mae는 크게 줄어들었으나 rmlse는 여전히 크다"
   ]
  },
  {
   "cell_type": "code",
   "execution_count": 19,
   "id": "88102446",
   "metadata": {},
   "outputs": [
    {
     "data": {
      "text/plain": [
       "<AxesSubplot:>"
      ]
     },
     "execution_count": 19,
     "metadata": {},
     "output_type": "execute_result"
    },
    {
     "data": {
      "image/png": "[encoded data removed]",
      "text/plain": [
       "<Figure size 432x288 with 1 Axes>"
      ]
     },
     "metadata": {
      "needs_background": "light"
     },
     "output_type": "display_data"
    }
   ],
   "source": [
    "#회귀 모델에서 피처 중요도로 보았던것과는 달리 선형 회귀 모델에선 회귀 계수로 어떤 피처가 중요하게 판단되었는지 몰수 있음\n",
    "\n",
    "coeff = pd.Series(data=lr.coef_, index=X.columns) \n",
    "coeff_sort = coeff.sort_values(ascending=False) \n",
    "sns.barplot(x=coeff_sort.values, y=coeff_sort.index)\n"
   ]
  },
  {
   "cell_type": "markdown",
   "id": "f75a43ec",
   "metadata": {},
   "source": [
    "#### 카테고리형 데이터들을 원핫인코딩 변환 후 학습,결과 출력"
   ]
  },
  {
   "cell_type": "code",
   "execution_count": 20,
   "id": "a1081b03",
   "metadata": {},
   "outputs": [
    {
     "name": "stdout",
     "output_type": "stream",
     "text": [
      "rmlse : 8.117\n",
      "rmse : 0.589\n",
      "mae : 0.442\n",
      "          real  predicted      diff\n",
      "226   0.693147   4.112457  3.419310\n",
      "220   1.386294   4.101013  2.714719\n",
      "1151  2.302585   4.959625  2.657040\n",
      "2827  1.098612   3.692810  2.594198\n",
      "450   1.386294   3.899658  2.513364\n"
     ]
    }
   ],
   "source": [
    "#상대적으로 큰 값을 갖는 year가 높은 중요도를 가진것으로 나오고 있음 year 간에는 큰 의미가 없는데도 영향을 주고 있으니 카테고리형 변수들을 인코딩 필요\n",
    "X_ohe = pd.get_dummies(X, columns=[\"year\", \"month\", \"hour\", \"holiday\", \"workingday\", \"season\", \"weather\"]) \n",
    "\n",
    "\n",
    "X_train, X_test, y_train, y_test = train_test_split(X_ohe, y, test_size = 0.3) \n",
    "lr = LinearRegression() \n",
    "lr.fit(X_train, y_train) \n",
    "pred = lr.predict(X_test) \n",
    "eval_reg(y_test, pred) \n",
    "get_top_error_data(y_test, pred, n_tops=5)\n",
    "\n",
    "#rmlse 줄어든 모습"
   ]
  }
 ],
 "metadata": {
  "kernelspec": {
   "display_name": "Python 3 (ipykernel)",
   "language": "python",
   "name": "python3"
  },
  "language_info": {
   "codemirror_mode": {
    "name": "ipython",
    "version": 3
   },
   "file_extension": ".py",
   "mimetype": "text/x-python",
   "name": "python",
   "nbconvert_exporter": "python",
   "pygments_lexer": "ipython3",
   "version": "3.9.7"
  }
 },
 "nbformat": 4,
 "nbformat_minor": 5
}
