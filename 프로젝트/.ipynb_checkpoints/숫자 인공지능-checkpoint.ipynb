{
 "cells": [
  {
   "cell_type": "code",
   "execution_count": 1,
   "id": "1806b59d",
   "metadata": {},
   "outputs": [],
   "source": [
    "import keras\n",
    "from tensorflow.keras.models import Sequential #케라스의 모델도구 시퀀셜모델 함수 시퀀셜모델을 불러오는 명령어\n",
    "from tensorflow.keras.layers import Dense, Activation##dense 각레이어 뉴런개수 설정 activation 활성화함수\n",
    "from tensorflow.keras.utils import to_categorical#0부터 9사이 숫자이미지 구별하는 인공지능,원-핫 인코딩 구현할수있는 함수\n",
    "from tensorflow.keras.datasets import mnist#mnist 데이터셋 불러오는 명령어\n",
    "import numpy as np\n",
    "import matplotlib.pyplot as plt\n",
    "from tensorflow.python.ops.gen_math_ops import mod"
   ]
  },
  {
   "cell_type": "code",
   "execution_count": 2,
   "id": "aa30dd0a",
   "metadata": {},
   "outputs": [
    {
     "name": "stdout",
     "output_type": "stream",
     "text": [
      "x_train shpae (60000, 28, 28)\n",
      "y_train shape, (60000,)\n",
      "x_test shape (10000, 28, 28)\n",
      "y_test shape (10000,)\n"
     ]
    }
   ],
   "source": [
    "(x_train,y_train),(x_test,y_test) = mnist.load_data()\n",
    "print(\"x_train shpae\",x_train.shape)\n",
    "print(\"y_train shape,\",y_train.shape)\n",
    "print(\"x_test shape\",x_test.shape)\n",
    "print(\"y_test shape\",y_test.shape)"
   ]
  },
  {
   "cell_type": "code",
   "execution_count": 3,
   "id": "3fc5062d",
   "metadata": {},
   "outputs": [
    {
     "name": "stdout",
     "output_type": "stream",
     "text": [
      "X Traning matrix shape (60000, 784)\n",
      "X Testing matrix shape (10000, 784)\n"
     ]
    }
   ],
   "source": [
    "X_train=x_train.reshape(60000, 784)\n",
    "X_test=x_test.reshape(10000, 784)\n",
    "X_train=X_train.astype('float32')\n",
    "X_test=X_test.astype('float32')\n",
    "X_train /=255\n",
    "X_test /=255\n",
    "print(\"X Traning matrix shape\",X_train.shape)\n",
    "print(\"X Testing matrix shape\",X_test.shape)"
   ]
  },
  {
   "cell_type": "code",
   "execution_count": 4,
   "id": "cf9ef009",
   "metadata": {},
   "outputs": [
    {
     "name": "stdout",
     "output_type": "stream",
     "text": [
      "Y_Training matrix shape (60000, 10)\n",
      "Y_Testing matrix shape (10000, 10)\n"
     ]
    }
   ],
   "source": [
    "Y_train=to_categorical(y_train,10)\n",
    "Y_test=to_categorical(y_test,10)\n",
    "print(\"Y_Training matrix shape\",Y_train.shape)\n",
    "print(\"Y_Testing matrix shape\",Y_test.shape)\n",
    "#인공지능을 만들기위해 데이터를 내가 만들기 원하는 방향으로 변환하는 과정"
   ]
  },
  {
   "cell_type": "code",
   "execution_count": 5,
   "id": "867f5c77",
   "metadata": {},
   "outputs": [
    {
     "name": "stdout",
     "output_type": "stream",
     "text": [
      "Model: \"sequential\"\n",
      "_________________________________________________________________\n",
      " Layer (type)                Output Shape              Param #   \n",
      "=================================================================\n",
      " dense (Dense)               (None, 512)               401920    \n",
      "                                                                 \n",
      " activation (Activation)     (None, 512)               0         \n",
      "                                                                 \n",
      " dense_1 (Dense)             (None, 256)               131328    \n",
      "                                                                 \n",
      " activation_1 (Activation)   (None, 256)               0         \n",
      "                                                                 \n",
      " dense_2 (Dense)             (None, 10)                2570      \n",
      "                                                                 \n",
      " activation_2 (Activation)   (None, 10)                0         \n",
      "                                                                 \n",
      "=================================================================\n",
      "Total params: 535,818\n",
      "Trainable params: 535,818\n",
      "Non-trainable params: 0\n",
      "_________________________________________________________________\n"
     ]
    }
   ],
   "source": [
    "model = Sequential()#딥러닝 모델 쉽게 개발할 수 있도록 도와줌\n",
    "model.add(Dense(512, input_shape=(784,)))#모델에 층을추가 add, 층이 어떤 형태인지 설정하기위해 Dense함수 사용 첫번째 은닉충 노드 512개\n",
    "model.add(Activation('relu'))#활성화 함수 relu함수로 설정\n",
    "model.add(Dense(256))#다음충 두번째 은닉충은 256개 노드구성 \n",
    "model.add(Activation('relu'))#두번째 은닉층도 활성화 함수 relu로 구성\n",
    "model.add(Dense(10))#마지막 3번째층 10개노드 구성 그이유는 최종 결괏값이 0부터9까지 중 하나로 결정되기 떄문\n",
    "model.add(Activation('softmax'))#각 노드 전달된 값의 총합이 1이 되도록 소프트맥스 함수 사용 \n",
    "model.summary()#summary 함수는 모델 구성 살펴보는 함수"
   ]
  },
  {
   "cell_type": "code",
   "execution_count": 6,
   "id": "9215dcd6",
   "metadata": {},
   "outputs": [
    {
     "name": "stdout",
     "output_type": "stream",
     "text": [
      "Epoch 1/10\n",
      "469/469 [==============================] - 2s 4ms/step - loss: 0.2252 - accuracy: 0.9339\n",
      "Epoch 2/10\n",
      "469/469 [==============================] - 2s 4ms/step - loss: 0.0808 - accuracy: 0.9753\n",
      "Epoch 3/10\n",
      "469/469 [==============================] - 2s 4ms/step - loss: 0.0524 - accuracy: 0.9836\n",
      "Epoch 4/10\n",
      "469/469 [==============================] - 2s 4ms/step - loss: 0.0370 - accuracy: 0.9881\n",
      "Epoch 5/10\n",
      "469/469 [==============================] - 2s 4ms/step - loss: 0.0271 - accuracy: 0.9911\n",
      "Epoch 6/10\n",
      "469/469 [==============================] - 2s 5ms/step - loss: 0.0201 - accuracy: 0.9935\n",
      "Epoch 7/10\n",
      "469/469 [==============================] - 2s 5ms/step - loss: 0.0169 - accuracy: 0.9946\n",
      "Epoch 8/10\n",
      "469/469 [==============================] - 2s 4ms/step - loss: 0.0168 - accuracy: 0.9945\n",
      "Epoch 9/10\n",
      "469/469 [==============================] - 2s 4ms/step - loss: 0.0130 - accuracy: 0.9956\n",
      "Epoch 10/10\n",
      "469/469 [==============================] - 2s 4ms/step - loss: 0.0126 - accuracy: 0.9955\n"
     ]
    },
    {
     "data": {
      "text/plain": [
       "<keras.callbacks.History at 0x24fea103970>"
      ]
     },
     "execution_count": 6,
     "metadata": {},
     "output_type": "execute_result"
    }
   ],
   "source": [
    "model.compile(loss='categorical_crossentropy',optimizer='adam', metrics=['accuracy'])#함수 사용규칙 3가지 오차값계산 방법,오차 줄이는 방법(옵티마이저 사용{adam})) 3번째 학습결과 어떻게 확인할지\n",
    "model.fit(X_train,Y_train,batch_size=128,epochs=10,verbose=1)#케라스는 학습시키기위해 맞춘다라는 의미의 fit함수 제공,규칙 첫번쟤 입력할 데이터 정하기 두번째 배치 사이즈 정하기 세번째 에포크 정하기\n",
    "#배치 사이즈는 인공지능 모델이 한번에 학습하는 데이터의 수, 에포크는 모든 데이터를 1번 학습하는 것을 의미"
   ]
  },
  {
   "cell_type": "code",
   "execution_count": 7,
   "id": "f9af64c9",
   "metadata": {},
   "outputs": [
    {
     "name": "stdout",
     "output_type": "stream",
     "text": [
      "313/313 [==============================] - 1s 2ms/step - loss: 0.0772 - accuracy: 0.9814\n",
      "Test score:  0.07724868506193161\n",
      "Test accuaracy:  0.9814000129699707\n"
     ]
    }
   ],
   "source": [
    "score=model.evaluate(X_test,Y_test) #테스트 정확도 평가 evaluate 함수에 데이터 넣으면 두가지 결과 첫번째 오차값 오차값은 0~1사이 0이면 오차없음 1이면 오차가 아주 크다는 의미 두번째 정확도(accuarcy) 1에 가까울 수록 정답을 많이 맞춘것을 의미\n",
    "print('Test score: ',score[0])#score 변수에는 오차값과 정확도 들어있음 오차값 출력위해 score 변수 첫번째 항목인 점수 출력\n",
    "print('Test accuaracy: ',score[1])#score 변수 두번째 항목인 정확도 출력 최종오차 0.08 정확도 0.98나옴"
   ]
  },
  {
   "cell_type": "code",
   "execution_count": 8,
   "id": "90db3415",
   "metadata": {},
   "outputs": [],
   "source": [
    "predicted_classes = np.argmax(model.predict(X_test),axis=1)\n",
    "correct_indices =np.nonzero(predicted_classes == y_test)[0]#실제값과 예측값이 일치하는 값을 찾아내여 correct_indices변수에 저장하는 과정\n",
    "incorrect_indices =np.nonzero(predicted_classes !=y_test)[0]"
   ]
  },
  {
   "cell_type": "code",
   "execution_count": 9,
   "id": "8db6bece",
   "metadata": {},
   "outputs": [
    {
     "data": {
      "image/png": "[encoded data removed]",
      "text/plain": [
       "<Figure size 432x288 with 1 Axes>"
      ]
     },
     "metadata": {
      "needs_background": "light"
     },
     "output_type": "display_data"
    },
    {
     "data": {
      "image/png": "[encoded data removed]",
      "text/plain": [
       "<Figure size 432x288 with 1 Axes>"
      ]
     },
     "metadata": {
      "needs_background": "light"
     },
     "output_type": "display_data"
    },
    {
     "data": {
      "image/png": "[encoded data removed]",
      "text/plain": [
       "<Figure size 432x288 with 1 Axes>"
      ]
     },
     "metadata": {
      "needs_background": "light"
     },
     "output_type": "display_data"
    },
    {
     "data": {
      "image/png": "[encoded data removed]",
      "text/plain": [
       "<Figure size 432x288 with 1 Axes>"
      ]
     },
     "metadata": {
      "needs_background": "light"
     },
     "output_type": "display_data"
    },
    {
     "data": {
      "image/png": "[encoded data removed]",
      "text/plain": [
       "<Figure size 432x288 with 1 Axes>"
      ]
     },
     "metadata": {
      "needs_background": "light"
     },
     "output_type": "display_data"
    },
    {
     "data": {
      "image/png": "[encoded data removed]",
      "text/plain": [
       "<Figure size 432x288 with 1 Axes>"
      ]
     },
     "metadata": {
      "needs_background": "light"
     },
     "output_type": "display_data"
    },
    {
     "data": {
      "image/png": "[encoded data removed]",
      "text/plain": [
       "<Figure size 432x288 with 1 Axes>"
      ]
     },
     "metadata": {
      "needs_background": "light"
     },
     "output_type": "display_data"
    },
    {
     "data": {
      "image/png": "[encoded data removed]",
      "text/plain": [
       "<Figure size 432x288 with 1 Axes>"
      ]
     },
     "metadata": {
      "needs_background": "light"
     },
     "output_type": "display_data"
    },
    {
     "data": {
      "image/png": "[encoded data removed]",
      "text/plain": [
       "<Figure size 432x288 with 1 Axes>"
      ]
     },
     "metadata": {
      "needs_background": "light"
     },
     "output_type": "display_data"
    }
   ],
   "source": [
    "plt.figure()\n",
    "for i in range(9):\n",
    "    plt.subplot(3,3,i+1)\n",
    "    correct = correct_indices[i]\n",
    "    plt.imshow(X_test[correct].reshape(28,28),cmap='gray')\n",
    "    plt.title(\"Predicted {},Class {}\".format(predicted_classes[correct],y_test[correct]))\n",
    "    plt.tight_layout()\n",
    "    plt.show()"
   ]
  }
 ],
 "metadata": {
  "kernelspec": {
   "display_name": "Python 3 (ipykernel)",
   "language": "python",
   "name": "python3"
  },
  "language_info": {
   "codemirror_mode": {
    "name": "ipython",
    "version": 3
   },
   "file_extension": ".py",
   "mimetype": "text/x-python",
   "name": "python",
   "nbconvert_exporter": "python",
   "pygments_lexer": "ipython3",
   "version": "3.9.7"
  }
 },
 "nbformat": 4,
 "nbformat_minor": 5
}
